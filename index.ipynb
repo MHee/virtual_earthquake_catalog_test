{
 "cells": [
  {
   "cell_type": "markdown",
   "id": "f00caf06-5777-4f5b-b5b4-5b2e4e4e4d69",
   "metadata": {},
   "source": [
    "This Notebook \n",
    "\n",
    "1. downloads the EEW earthquake catalog from ONC\n",
    "2. converts catalog into GeoJson that can be viewed on Github\n",
    "3. downloads the JSON definition of each event in the catalog into a file under the **events** folder\n",
    "\n",
    "The callouts on the [GeoJson map](https://github.com/MHee/virtual_earthquake_catalog_test/blob/main/earthquake_catalog.geojson) include the URLs that\n",
    "1. Should render the json file on Github using the ONC interface\n",
    "2. The plain URL of the json file on Github\n",
    "3. The link to the original event detail page using the ONC DB "
   ]
  },
  {
   "cell_type": "code",
   "execution_count": 1,
   "id": "a315805b-ae31-4ea9-a7e1-ed78ed5ce127",
   "metadata": {},
   "outputs": [],
   "source": [
    "import requests"
   ]
  },
  {
   "cell_type": "code",
   "execution_count": 2,
   "id": "52927971-9d8c-45c1-8db5-439b787caa4e",
   "metadata": {},
   "outputs": [],
   "source": [
    "from getpass import getpass"
   ]
  },
  {
   "cell_type": "code",
   "execution_count": 3,
   "id": "a216ff13-24a4-4abc-833f-7f9ade5d8e17",
   "metadata": {},
   "outputs": [
    {
     "name": "stdin",
     "output_type": "stream",
     "text": [
      "Your ONC API Token: ····································\n"
     ]
    }
   ],
   "source": [
    "# Use token from https://data.oceannetworks.ca/Profile\n",
    "token = getpass('Your ONC API Token:')"
   ]
  },
  {
   "cell_type": "markdown",
   "id": "f5f5c5b7-643a-4719-a48b-263492fc7d4f",
   "metadata": {},
   "source": [
    "## GeoJSON\n",
    "Classes that help to generate GeoJson without dependencies"
   ]
  },
  {
   "cell_type": "code",
   "execution_count": 5,
   "id": "e27ddee3-8d70-4038-837f-a557d38ab386",
   "metadata": {},
   "outputs": [],
   "source": [
    "# https://geojson.org/\n",
    "import json\n",
    "\n",
    "class GeoJsonObj(object):\n",
    "    def __init__(self, obj_type=None):\n",
    "        self.json_obj={'type': obj_type}\n",
    "        \n",
    "    def __str__(self):\n",
    "        return str(self.json_obj)\n",
    "    \n",
    "    def __repr__(self):\n",
    "        return self.__str__()\n",
    "    \n",
    "    def to_json(self):\n",
    "        return json.dumps(self.json_obj, sort_keys=False, indent=2)\n",
    "    \n",
    "class Point(GeoJsonObj):\n",
    "    def __init__(self, longitude, latitude):\n",
    "            GeoJsonObj.__init__(self, obj_type='Point')\n",
    "            self.json_obj['coordinates'] = [longitude, latitude]\n",
    "            \n",
    "class Feature(GeoJsonObj):\n",
    "    def __init__(self, geometry=None, properties=None):\n",
    "            GeoJsonObj.__init__(self, obj_type='Feature')\n",
    "            self.json_obj['geometry'] = geometry.json_obj\n",
    "            self.json_obj['properties'] = properties\n",
    "            \n",
    "class FeatureCollection(GeoJsonObj):\n",
    "    def __init__(self, features=[]):\n",
    "            GeoJsonObj.__init__(self, obj_type='FeatureCollection')\n",
    "            self.features = list()\n",
    "            self.json_obj['features'] = self.features\n",
    "            for feature in features:\n",
    "                self.append(feature)\n",
    "            \n",
    "    def append(self, feature):\n",
    "        self.features.append(feature.json_obj)\n",
    "            \n",
    "    "
   ]
  },
  {
   "cell_type": "markdown",
   "id": "ac8d5b26-196a-4070-9e19-3c63661c081f",
   "metadata": {},
   "source": [
    "## ONC Earthquake Catalog to GeoJSON"
   ]
  },
  {
   "cell_type": "code",
   "execution_count": 23,
   "id": "8d0c72e0-aaf9-4284-ac14-f40a2aaf7c0b",
   "metadata": {
    "tags": []
   },
   "outputs": [
    {
     "data": {
      "text/plain": [
       "<Response [200]>"
      ]
     },
     "execution_count": 23,
     "metadata": {},
     "output_type": "execute_result"
    }
   ],
   "source": [
    "r = requests.get('https://data.oceannetworks.ca/EarthquakeCatalogService', params={'operation': 1, 'token': token})\n",
    "r"
   ]
  },
  {
   "cell_type": "code",
   "execution_count": 24,
   "id": "8848ebfb-3e17-4d49-8331-54757041ea9e",
   "metadata": {},
   "outputs": [],
   "source": [
    "earthquakes = r.json()['payload']"
   ]
  },
  {
   "cell_type": "code",
   "execution_count": 25,
   "id": "ab358c30-a4ff-412c-a14b-5939ac240645",
   "metadata": {},
   "outputs": [],
   "source": [
    "earthquake_collection = FeatureCollection()\n",
    "\n",
    "for earthquake in earthquakes:\n",
    "    p = Point(earthquake['longitude'], earthquake['latitude'])\n",
    "    \n",
    "    gh_url = f'https://raw.githubusercontent.com/MHee/virtual_earthquake_catalog_test/main/events/eq_{earthquake[\"earthquakeId\"]}.json'\n",
    "    url = f'https://data.oceannetworks.ca/EarthquakeDetail?earthquakeURL={requests.utils.quote(gh_url)}'\n",
    "    url_orig = f'https://data.oceannetworks.ca/EarthquakeDetail?earthquakeId={earthquake[\"earthquakeId\"]}'\n",
    "    \n",
    "    earthquake['url'] = url\n",
    "    earthquake['gh_url'] = gh_url\n",
    "    earthquake['url_orig'] = url_orig\n",
    "    \n",
    "    earthquake_collection.append(Feature(p, earthquake))\n",
    "\n",
    "\n",
    "with open('earthquake_catalog.geojson', 'w') as catalog_file:    \n",
    "    catalog_file.write(earthquake_collection.to_json())"
   ]
  },
  {
   "cell_type": "markdown",
   "id": "9edcb965-f24c-455c-b115-46fbacdcf721",
   "metadata": {},
   "source": [
    "## Dump all earthquakes in catalog to JSON"
   ]
  },
  {
   "cell_type": "code",
   "execution_count": 20,
   "id": "fe43331f-1e42-4a2b-96d5-0f3fcbf6e650",
   "metadata": {},
   "outputs": [
    {
     "name": "stdout",
     "output_type": "stream",
     "text": [
      "./events/eq_1.json\n",
      "./events/eq_2.json\n",
      "./events/eq_3.json\n",
      "./events/eq_4.json\n",
      "./events/eq_5.json\n",
      "./events/eq_6.json\n",
      "./events/eq_7.json\n",
      "./events/eq_8.json\n",
      "./events/eq_9.json\n",
      "./events/eq_10.json\n",
      "./events/eq_11.json\n",
      "./events/eq_12.json\n",
      "./events/eq_13.json\n",
      "./events/eq_14.json\n",
      "./events/eq_15.json\n",
      "./events/eq_16.json\n",
      "./events/eq_17.json\n",
      "./events/eq_18.json\n"
     ]
    }
   ],
   "source": [
    "params={'operation': 1, 'earthquakeId': None, 'token': token}\n",
    "\n",
    "for earthquake in earthquakes:\n",
    "    out_file = f'./events/eq_{earthquake[\"earthquakeId\"]}.json'\n",
    "    params['earthquakeId'] = earthquake['earthquakeId']\n",
    "    print(out_file)\n",
    "    r = requests.get('https://data.oceannetworks.ca/EarthquakeDetailService', params=params)\n",
    "    if r.ok:\n",
    "        with open(out_file, 'w') as json_file:\n",
    "            json.dump(r.json()['payload'], json_file, indent=2)\n",
    "    else:\n",
    "        print(f'Something when wrong with {r.url} !!!')"
   ]
  },
  {
   "cell_type": "code",
   "execution_count": null,
   "id": "3f00f234-e169-46d3-90f2-201e1ae86d73",
   "metadata": {},
   "outputs": [],
   "source": []
  }
 ],
 "metadata": {
  "kernelspec": {
   "display_name": "Python 3 (ipykernel)",
   "language": "python",
   "name": "python3"
  },
  "language_info": {
   "codemirror_mode": {
    "name": "ipython",
    "version": 3
   },
   "file_extension": ".py",
   "mimetype": "text/x-python",
   "name": "python",
   "nbconvert_exporter": "python",
   "pygments_lexer": "ipython3",
   "version": "3.10.0"
  }
 },
 "nbformat": 4,
 "nbformat_minor": 5
}
